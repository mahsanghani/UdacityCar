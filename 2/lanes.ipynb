{
 "cells": [
  {
   "cell_type": "code",
   "execution_count": 5,
   "outputs": [
    {
     "name": "stdout",
     "output_type": "stream",
     "text": [
      "not enough points to calibrate\n"
     ]
    },
    {
     "ename": "TypeError",
     "evalue": "cannot unpack non-iterable NoneType object",
     "output_type": "error",
     "traceback": [
      "\u001B[1;31m---------------------------------------------------------------------------\u001B[0m",
      "\u001B[1;31mTypeError\u001B[0m                                 Traceback (most recent call last)",
      "Cell \u001B[1;32mIn[5], line 41\u001B[0m\n\u001B[0;32m     38\u001B[0m     \u001B[38;5;28;01mreturn\u001B[39;00m ret, mtx, dist, rvecs, tvecs, img\n\u001B[0;32m     40\u001B[0m image \u001B[38;5;241m=\u001B[39m glob\u001B[38;5;241m.\u001B[39mglob(\u001B[38;5;124m'\u001B[39m\u001B[38;5;124m./camera_cal/calibration*.jpg\u001B[39m\u001B[38;5;124m'\u001B[39m)\n\u001B[1;32m---> 41\u001B[0m ret,mtx,dist,rvecs,tvecs,img \u001B[38;5;241m=\u001B[39m calibrate_camera(image)\n",
      "\u001B[1;31mTypeError\u001B[0m: cannot unpack non-iterable NoneType object"
     ]
    }
   ],
   "source": [
    "import matplotlib.pyplot as plt\n",
    "import matplotlib.image as mgimg\n",
    "import numpy as np\n",
    "import cv2.cv2 as cv2\n",
    "%matplotlib inline\n",
    "import glob\n",
    "import pickle\n",
    "\n",
    "def calibrate_camera(images, nx=9, ny=6):\n",
    "    objpoints = []\n",
    "    imgpoints = []\n",
    "    objp = np.zeros((nx*ny,3), np.float32)\n",
    "    objp[:,:2] = np.mgrid[0:nx, 0:ny].T.reshape(-1,2)\n",
    "\n",
    "    img = None\n",
    "    for file in images:\n",
    "        img = cv2.imread(file)\n",
    "        gray = cv2.cvtColor(img, cv2.COLOR_BGR2GRAY)\n",
    "        ret, corners = cv2.findChessboardCorners(gray, (nx,ny), None)\n",
    "\n",
    "        if ret==True:\n",
    "            imgpoints.append(corners)\n",
    "            objpoints.append(objp)\n",
    "            img_d = cv2.drawChessboardCorners(img, (9,6), corners, ret)\n",
    "            file_name = './output_images/' + file[13:]\n",
    "            cv2.imwrite(file_name, img_d)\n",
    "\n",
    "        if len(objpoints) == len(imgpoints) and len(objpoints) > 0:\n",
    "            ret, mtx, dist, rvecs, tvecs = cv2.calibrateCamera(objpoints, imgpoints, gray.shape[::-1],None,None)\n",
    "            dist_pickle = {}\n",
    "            dist_pickle['mtx'] = mtx\n",
    "            dist_pickle['dist'] = dist\n",
    "        else:\n",
    "            print(\"not enough points to calibrate\")\n",
    "            return\n",
    "\n",
    "    return ret, mtx, dist, rvecs, tvecs, img\n",
    "\n",
    "image = glob.glob('./camera_cal/calibration*.jpg')\n",
    "ret,mtx,dist,rvecs,tvecs,img = calibrate_camera(image)"
   ],
   "metadata": {
    "collapsed": false
   }
  },
  {
   "cell_type": "code",
   "execution_count": null,
   "outputs": [],
   "source": [],
   "metadata": {
    "collapsed": false
   }
  }
 ],
 "metadata": {
  "kernelspec": {
   "display_name": "Python 3",
   "language": "python",
   "name": "python3"
  },
  "language_info": {
   "codemirror_mode": {
    "name": "ipython",
    "version": 2
   },
   "file_extension": ".py",
   "mimetype": "text/x-python",
   "name": "python",
   "nbconvert_exporter": "python",
   "pygments_lexer": "ipython2",
   "version": "2.7.6"
  }
 },
 "nbformat": 4,
 "nbformat_minor": 0
}
