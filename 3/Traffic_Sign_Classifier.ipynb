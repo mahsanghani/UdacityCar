{
 "cells": [
  {
   "cell_type": "code",
   "execution_count": 18,
   "outputs": [
    {
     "ename": "ModuleNotFoundError",
     "evalue": "No module named 'tensorflow.contrib'",
     "output_type": "error",
     "traceback": [
      "\u001B[1;31m---------------------------------------------------------------------------\u001B[0m",
      "\u001B[1;31mModuleNotFoundError\u001B[0m                       Traceback (most recent call last)",
      "Cell \u001B[1;32mIn[18], line 9\u001B[0m\n\u001B[0;32m      7\u001B[0m \u001B[38;5;28;01mimport\u001B[39;00m \u001B[38;5;21;01mcv2\u001B[39;00m\n\u001B[0;32m      8\u001B[0m \u001B[38;5;28;01mfrom\u001B[39;00m \u001B[38;5;21;01msklearn\u001B[39;00m\u001B[38;5;21;01m.\u001B[39;00m\u001B[38;5;21;01mutils\u001B[39;00m \u001B[38;5;28;01mimport\u001B[39;00m shuffle\n\u001B[1;32m----> 9\u001B[0m \u001B[38;5;28;01mfrom\u001B[39;00m \u001B[38;5;21;01mtensorflow\u001B[39;00m\u001B[38;5;21;01m.\u001B[39;00m\u001B[38;5;21;01mcontrib\u001B[39;00m\u001B[38;5;21;01m.\u001B[39;00m\u001B[38;5;21;01mlayers\u001B[39;00m \u001B[38;5;28;01mimport\u001B[39;00m flatten\n\u001B[0;32m     10\u001B[0m get_ipython()\u001B[38;5;241m.\u001B[39mrun_line_magic(\u001B[38;5;124m'\u001B[39m\u001B[38;5;124mmatplotlib\u001B[39m\u001B[38;5;124m'\u001B[39m, \u001B[38;5;124m'\u001B[39m\u001B[38;5;124minline\u001B[39m\u001B[38;5;124m'\u001B[39m)\n",
      "\u001B[1;31mModuleNotFoundError\u001B[0m: No module named 'tensorflow.contrib'"
     ]
    }
   ],
   "source": [
    "import pickle\n",
    "import tensorflow as tf\n",
    "import numpy as np\n",
    "import matplotlib.pyplot as plt\n",
    "import random\n",
    "import scipy.ndimage\n",
    "import cv2\n",
    "from sklearn.utils import shuffle\n",
    "from tensorflow.contrib.layers import flatten\n",
    "%matplotlib inline"
   ],
   "metadata": {
    "collapsed": false
   }
  },
  {
   "cell_type": "code",
   "execution_count": null,
   "outputs": [],
   "source": [
    "training_file = \"data/train.pickle\"\n",
    "validation_file= \"data/valid.pickle\"\n",
    "testing_file = \"data/test.pickle\"\n",
    "\n",
    "with open(training_file, mode='rb') as f:\n",
    "    train = pickle.load(f)\n",
    "with open(validation_file, mode='rb') as f:\n",
    "    valid = pickle.load(f)\n",
    "with open(testing_file, mode='rb') as f:\n",
    "    test = pickle.load(f)\n",
    "\n",
    "X_train, y_train = train['features'], train['labels']\n",
    "X_valid, y_valid = valid['features'], valid['labels']\n",
    "X_test, y_test = test['features'], test['labels']\n",
    "\n",
    "assert(len(X_train) == len(y_train))\n",
    "assert(len(X_valid) == len(y_valid))\n",
    "assert(len(X_test) == len(y_test))\n",
    "\n",
    "print(\"X_train shape:\", X_train[0].shape)\n",
    "print(\"y_train shape:\", y_train.shape)\n",
    "print(\"X_valid shape:\", X_valid[0].shape)\n",
    "print(\"y_valid shape:\", y_valid.shape)\n",
    "print(\"X_test shape:\", X_test[0].shape)\n",
    "print(\"y_test shape:\", y_test.shape)"
   ],
   "metadata": {
    "collapsed": false
   }
  },
  {
   "cell_type": "code",
   "execution_count": null,
   "outputs": [],
   "source": [
    "n_train = len(X_train)\n",
    "n_valid = len(X_valid)\n",
    "n_test = len(X_test)\n",
    "image_shape = X_train[0].shape\n",
    "n_classes = len(np.unique(y_train))"
   ],
   "metadata": {
    "collapsed": false
   }
  },
  {
   "cell_type": "code",
   "execution_count": null,
   "outputs": [],
   "source": [
    "print(\"Number of training examples = \", n_train)\n",
    "print(\"Number of validation example = \", n_valid)\n",
    "print(\"Number of testing samples = \", n_test)\n",
    "print(\"Shape of first training image = \", image_shape[0], \"w x\", image_shape[1], \"h x\", image_shape[2], \"d\")\n",
    "print(\"Number of classes = \", n_classes)"
   ],
   "metadata": {
    "collapsed": false
   }
  },
  {
   "cell_type": "code",
   "execution_count": null,
   "outputs": [],
   "source": [
    "fig, axs = plt.subplots(2,10, figsize=(15,6))\n",
    "fig.subplots_adjust(hspace=.2, wspace=.1)\n",
    "axs = axs.ravel()\n",
    "\n",
    "for i in range(20):\n",
    "    index = random.randint(0,len(X_train))\n",
    "    image = X_train[index]\n",
    "    axs[i].axis('off')\n",
    "    axs[i].imshow(image)\n",
    "    axs[i].set_title(y_train[index])"
   ],
   "metadata": {
    "collapsed": false
   }
  },
  {
   "cell_type": "code",
   "execution_count": null,
   "outputs": [],
   "source": [
    "a = y_train\n",
    "b = y_valid\n",
    "c = y_test\n",
    "bins = n_classes\n",
    "\n",
    "plt.hist(a, bins, alpha=1, label='Training Data')\n",
    "plt.hist(b, bins, alpha=1, label='Validation Data')\n",
    "plt.hist(c, bins, alpha=0.6, label='Test Data')\n",
    "plt.legend(loc='upper center')\n",
    "\n",
    "plt.show()"
   ],
   "metadata": {
    "collapsed": false
   }
  },
  {
   "cell_type": "code",
   "execution_count": null,
   "outputs": [],
   "source": [
    "# rotation\n",
    "\n",
    "degrees = 10\n",
    "degrees_positive = 10\n",
    "degrees_negative = 350\n",
    "X_train_rotated_positive = []\n",
    "X_train_rotated_negative = []\n",
    "\n",
    "for i in range(len(X_train)):\n",
    "    rotated_image = scipy.ndimage.rotate(X_train[i], degrees_positive)\n",
    "    X_train_rotated_positive.append(rotated_image)\n",
    "\n",
    "for i in range(len(X_train)):\n",
    "    rotated_image = scipy.ndimage.rotate(X_train[i], degrees_negative)\n",
    "    X_train_rotated_negative.append(rotated_image)\n",
    "\n",
    "for i in range(len(X_train_rotated_positive)):\n",
    "    X_train_rotated_positive[i] = X_train_rotated_positive[i][2:34,2:34]\n",
    "\n",
    "for i in range(len(X_train_rotated_negative)):\n",
    "    X_train_rotated_negative[i] = X_train_rotated_negative[i][2:34,2:34]\n",
    "\n",
    "X_train = list(X_train)\n",
    "\n",
    "for i in range(len(X_train_rotated_positive)):\n",
    "    X_train.append(X_train_rotated_positive[i])\n",
    "    X_train.append(X_train_rotated_negative[i])\n",
    "\n",
    "y_train = list(y_train)\n",
    "\n",
    "for i in range(len(y_train)):\n",
    "    y_train.append(y_train[i])\n",
    "    y_train.append(y_train[i])\n",
    "\n",
    "X_train = np.array(X_train)\n",
    "new_n_train = len(X_train)\n",
    "\n",
    "y_train = np.array(y_train)\n",
    "new_n_train_y = len(y_train)\n",
    "\n",
    "print(\"New number of ground truth labels = \", new_n_train_y)\n",
    "print(\"New number of training samples after data augmentation = \", new_n_train)"
   ],
   "metadata": {
    "collapsed": false
   }
  },
  {
   "cell_type": "code",
   "execution_count": null,
   "outputs": [],
   "source": [
    "fig, (ax1, ax2, ax3) = plt.subplots(1,3)\n",
    "ax1.imshow(X_train[2018])\n",
    "ax1.set_title('Original')\n",
    "ax1.axis('ON')\n",
    "ax2.imshow(X_train_rotated_positive[2018])\n",
    "ax2.set_title('Rotated +10°')\n",
    "ax2.axis('ON')\n",
    "ax3.imshow(X_train_rotated_negative[2018])\n",
    "ax3.set_title('Rotated -10°')\n",
    "ax3.axis('ON')\n",
    "plt.savefig('./examples/Figure_original_rotated.jpg', dpi=300)\n",
    "plt.show()"
   ],
   "metadata": {
    "collapsed": false
   }
  },
  {
   "cell_type": "code",
   "execution_count": null,
   "outputs": [],
   "source": [
    "X_train, y_train = shuffle(X_train, y_train)\n",
    "\n",
    "print(\"shuffle complete\")"
   ],
   "metadata": {
    "collapsed": false
   }
  },
  {
   "cell_type": "code",
   "execution_count": null,
   "outputs": [],
   "source": [
    "def normalize(image):\n",
    "    normal = (image - 127.5)/255\n",
    "    return np.reshape(normal, (32,32,1))"
   ],
   "metadata": {
    "collapsed": false
   }
  },
  {
   "cell_type": "code",
   "execution_count": null,
   "outputs": [],
   "source": [
    "def grayscale(image):\n",
    "    gray = cv2.cvtColor(image, cv2.COLOR_RGB2GRAY)\n",
    "    return np.reshape(gray, (32,32,1))"
   ],
   "metadata": {
    "collapsed": false
   }
  },
  {
   "cell_type": "code",
   "execution_count": null,
   "outputs": [],
   "source": [
    "def equalize(image):\n",
    "    equal = cv2.equalizeHist(image)\n",
    "    return np.reshape(equal, (32,32,1))"
   ],
   "metadata": {
    "collapsed": false
   }
  },
  {
   "cell_type": "code",
   "execution_count": null,
   "outputs": [],
   "source": [
    "X_train_normalized = []\n",
    "\n",
    "for image in X_train:\n",
    "    gray_image = grayscale(image)\n",
    "    equal_image = equalize(gray_image)\n",
    "    normalized_image = normalize(equal_image)\n",
    "    X_train_normalized.append(normalized_image)"
   ],
   "metadata": {
    "collapsed": false
   }
  },
  {
   "cell_type": "code",
   "execution_count": null,
   "outputs": [],
   "source": [
    "X_valid_normalized = []\n",
    "\n",
    "for image in X_valid:\n",
    "    gray_image = grayscale(image)\n",
    "    equal_image = equalize(gray_image)\n",
    "    normalized_image = normalize(equal_image)\n",
    "    X_valid_normalized.append(normalized_image)"
   ],
   "metadata": {
    "collapsed": false
   }
  },
  {
   "cell_type": "code",
   "execution_count": null,
   "outputs": [],
   "source": [
    "X_test_normalized = []\n",
    "\n",
    "for image in X_test:\n",
    "    gray_image = grayscale(image)\n",
    "    equal_image = equalize(gray_image)\n",
    "    normalized_image = normalize(equal_image)\n",
    "    X_test_normalized.append(normalized_image)"
   ],
   "metadata": {
    "collapsed": false
   }
  },
  {
   "cell_type": "code",
   "execution_count": null,
   "outputs": [],
   "source": [
    "print('completed')"
   ],
   "metadata": {
    "collapsed": false
   }
  },
  {
   "cell_type": "code",
   "execution_count": null,
   "outputs": [],
   "source": [],
   "metadata": {
    "collapsed": false
   }
  }
 ],
 "metadata": {
  "kernelspec": {
   "display_name": "Python 3",
   "language": "python",
   "name": "python3"
  },
  "language_info": {
   "codemirror_mode": {
    "name": "ipython",
    "version": 2
   },
   "file_extension": ".py",
   "mimetype": "text/x-python",
   "name": "python",
   "nbconvert_exporter": "python",
   "pygments_lexer": "ipython2",
   "version": "2.7.6"
  }
 },
 "nbformat": 4,
 "nbformat_minor": 0
}
