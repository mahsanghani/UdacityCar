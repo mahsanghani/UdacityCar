{
 "cells": [
  {
   "cell_type": "code",
   "execution_count": null,
   "outputs": [],
   "source": [
    "import pickle\n",
    "import numpy as np\n",
    "import matplotlib.pyplot as plt\n",
    "import random\n",
    "import scipy.ndimage\n",
    "import cv2\n",
    "from sklearn.utils import shuffle\n",
    "import tensorflow.compat.v1 as tf\n",
    "# import tensorflow_addons as tfa\n",
    "# from tfa.layers import flatten\n",
    "%matplotlib inline"
   ],
   "metadata": {
    "collapsed": false
   }
  },
  {
   "cell_type": "code",
   "execution_count": null,
   "outputs": [],
   "source": [
    "training_file = \"data/train.pickle\"\n",
    "validation_file= \"data/valid.pickle\"\n",
    "testing_file = \"data/test.pickle\"\n",
    "\n",
    "with open(training_file, mode='rb') as f:\n",
    "    train = pickle.load(f)\n",
    "with open(validation_file, mode='rb') as f:\n",
    "    valid = pickle.load(f)\n",
    "with open(testing_file, mode='rb') as f:\n",
    "    test = pickle.load(f)\n",
    "\n",
    "X_train, y_train = train['features'], train['labels']\n",
    "X_valid, y_valid = valid['features'], valid['labels']\n",
    "X_test, y_test = test['features'], test['labels']\n",
    "\n",
    "assert(len(X_train) == len(y_train))\n",
    "assert(len(X_valid) == len(y_valid))\n",
    "assert(len(X_test) == len(y_test))\n",
    "\n",
    "print(\"X_train shape:\", X_train[0].shape)\n",
    "print(\"y_train shape:\", y_train.shape)\n",
    "print(\"X_valid shape:\", X_valid[0].shape)\n",
    "print(\"y_valid shape:\", y_valid.shape)\n",
    "print(\"X_test shape:\", X_test[0].shape)\n",
    "print(\"y_test shape:\", y_test.shape)"
   ],
   "metadata": {
    "collapsed": false
   }
  },
  {
   "cell_type": "code",
   "execution_count": null,
   "outputs": [],
   "source": [
    "n_train = len(X_train)\n",
    "n_valid = len(X_valid)\n",
    "n_test = len(X_test)\n",
    "image_shape = X_train[0].shape\n",
    "n_classes = len(np.unique(y_train))"
   ],
   "metadata": {
    "collapsed": false
   }
  },
  {
   "cell_type": "code",
   "execution_count": null,
   "outputs": [],
   "source": [
    "print(\"Number of training examples = \", n_train)\n",
    "print(\"Number of validation example = \", n_valid)\n",
    "print(\"Number of testing samples = \", n_test)\n",
    "print(\"Shape of first training image = \", image_shape[0], \"w x\", image_shape[1], \"h x\", image_shape[2], \"d\")\n",
    "print(\"Number of classes = \", n_classes)"
   ],
   "metadata": {
    "collapsed": false
   }
  },
  {
   "cell_type": "code",
   "execution_count": null,
   "outputs": [],
   "source": [
    "fig, axs = plt.subplots(2,10, figsize=(15,6))\n",
    "fig.subplots_adjust(hspace=.2, wspace=.1)\n",
    "axs = axs.ravel()\n",
    "\n",
    "for i in range(20):\n",
    "    index = random.randint(0,len(X_train))\n",
    "    image = X_train[index]\n",
    "    axs[i].axis('off')\n",
    "    axs[i].imshow(image)\n",
    "    axs[i].set_title(y_train[index])"
   ],
   "metadata": {
    "collapsed": false
   }
  },
  {
   "cell_type": "code",
   "execution_count": null,
   "outputs": [],
   "source": [
    "a = y_train\n",
    "b = y_valid\n",
    "c = y_test\n",
    "bins = n_classes\n",
    "\n",
    "plt.hist(a, bins, alpha=1, label='Training Data')\n",
    "plt.hist(b, bins, alpha=1, label='Validation Data')\n",
    "plt.hist(c, bins, alpha=0.6, label='Test Data')\n",
    "plt.legend(loc='upper center')\n",
    "\n",
    "plt.show()"
   ],
   "metadata": {
    "collapsed": false
   }
  },
  {
   "cell_type": "code",
   "execution_count": null,
   "outputs": [
    {
     "name": "stdout",
     "output_type": "stream",
     "text": [
      "New number of ground truth labels =  104397\n",
      "New number of training samples after data augmentation =  104397\n"
     ]
    }
   ],
   "source": [
    "# rotation\n",
    "\n",
    "degrees = 10\n",
    "degrees_positive = 10\n",
    "degrees_negative = 350\n",
    "X_train_rotated_positive = []\n",
    "X_train_rotated_negative = []\n",
    "\n",
    "for i in range(len(X_train)):\n",
    "    rotated_image = scipy.ndimage.rotate(X_train[i], degrees_positive)\n",
    "    X_train_rotated_positive.append(rotated_image)\n",
    "\n",
    "for i in range(len(X_train)):\n",
    "    rotated_image = scipy.ndimage.rotate(X_train[i], degrees_negative)\n",
    "    X_train_rotated_negative.append(rotated_image)\n",
    "\n",
    "for i in range(len(X_train_rotated_positive)):\n",
    "    X_train_rotated_positive[i] = X_train_rotated_positive[i][2:34,2:34]\n",
    "\n",
    "for i in range(len(X_train_rotated_negative)):\n",
    "    X_train_rotated_negative[i] = X_train_rotated_negative[i][2:34,2:34]\n",
    "\n",
    "X_train = list(X_train)\n",
    "\n",
    "for i in range(len(X_train_rotated_positive)):\n",
    "    X_train.append(X_train_rotated_positive[i])\n",
    "    X_train.append(X_train_rotated_negative[i])\n",
    "\n",
    "y_train = list(y_train)\n",
    "\n",
    "for i in range(len(y_train)):\n",
    "    y_train.append(y_train[i])\n",
    "    y_train.append(y_train[i])\n",
    "\n",
    "X_train = np.array(X_train)\n",
    "new_n_train = len(X_train)\n",
    "\n",
    "y_train = np.array(y_train)\n",
    "new_n_train_y = len(y_train)\n",
    "\n",
    "print(\"New number of ground truth labels = \", new_n_train_y)\n",
    "print(\"New number of training samples after data augmentation = \", new_n_train)"
   ],
   "metadata": {
    "collapsed": false
   }
  },
  {
   "cell_type": "code",
   "execution_count": null,
   "outputs": [
    {
     "data": {
      "text/plain": "<Figure size 640x480 with 3 Axes>",
      "image/png": "[encoded data removed]"
     },
     "metadata": {},
     "output_type": "display_data"
    }
   ],
   "source": [
    "fig, (ax1, ax2, ax3) = plt.subplots(1,3)\n",
    "ax1.imshow(X_train[2018])\n",
    "ax1.set_title('Original')\n",
    "ax1.axis('ON')\n",
    "ax2.imshow(X_train_rotated_positive[2018])\n",
    "ax2.set_title('Rotated +10°')\n",
    "ax2.axis('ON')\n",
    "ax3.imshow(X_train_rotated_negative[2018])\n",
    "ax3.set_title('Rotated -10°')\n",
    "ax3.axis('ON')\n",
    "plt.savefig('./examples/Figure_original_rotated.jpg', dpi=300)\n",
    "plt.show()"
   ],
   "metadata": {
    "collapsed": false
   }
  },
  {
   "cell_type": "code",
   "execution_count": null,
   "outputs": [
    {
     "name": "stdout",
     "output_type": "stream",
     "text": [
      "shuffle complete\n"
     ]
    }
   ],
   "source": [
    "X_train, y_train = shuffle(X_train, y_train)\n",
    "\n",
    "print(\"shuffle complete\")"
   ],
   "metadata": {
    "collapsed": false
   }
  },
  {
   "cell_type": "code",
   "execution_count": null,
   "outputs": [],
   "source": [
    "def normalize(image):\n",
    "    normal = (image - 127.5)/255\n",
    "    return np.reshape(normal, (32,32,1))"
   ],
   "metadata": {
    "collapsed": false
   }
  },
  {
   "cell_type": "code",
   "execution_count": null,
   "outputs": [],
   "source": [
    "def grayscale(image):\n",
    "    gray = cv2.cvtColor(image, cv2.COLOR_RGB2GRAY)\n",
    "    return np.reshape(gray, (32,32,1))"
   ],
   "metadata": {
    "collapsed": false
   }
  },
  {
   "cell_type": "code",
   "execution_count": null,
   "outputs": [],
   "source": [
    "def equalize(image):\n",
    "    equal = cv2.equalizeHist(image)\n",
    "    return np.reshape(equal, (32,32,1))"
   ],
   "metadata": {
    "collapsed": false
   }
  },
  {
   "cell_type": "code",
   "execution_count": null,
   "outputs": [],
   "source": [
    "X_train_normalized = []\n",
    "\n",
    "for image in X_train:\n",
    "    gray_image = grayscale(image)\n",
    "    equal_image = equalize(gray_image)\n",
    "    normalized_image = normalize(equal_image)\n",
    "    X_train_normalized.append(normalized_image)"
   ],
   "metadata": {
    "collapsed": false
   }
  },
  {
   "cell_type": "code",
   "execution_count": null,
   "outputs": [],
   "source": [
    "X_valid_normalized = []\n",
    "\n",
    "for image in X_valid:\n",
    "    gray_image = grayscale(image)\n",
    "    equal_image = equalize(gray_image)\n",
    "    normalized_image = normalize(equal_image)\n",
    "    X_valid_normalized.append(normalized_image)"
   ],
   "metadata": {
    "collapsed": false
   }
  },
  {
   "cell_type": "code",
   "execution_count": null,
   "outputs": [],
   "source": [
    "X_test_normalized = []\n",
    "\n",
    "for image in X_test:\n",
    "    gray_image = grayscale(image)\n",
    "    equal_image = equalize(gray_image)\n",
    "    normalized_image = normalize(equal_image)\n",
    "    X_test_normalized.append(normalized_image)"
   ],
   "metadata": {
    "collapsed": false
   }
  },
  {
   "cell_type": "code",
   "execution_count": null,
   "outputs": [
    {
     "name": "stdout",
     "output_type": "stream",
     "text": [
      "completed\n"
     ]
    }
   ],
   "source": [
    "print('completed')"
   ],
   "metadata": {
    "collapsed": false
   }
  },
  {
   "cell_type": "code",
   "execution_count": null,
   "outputs": [],
   "source": [
    "def LeNet(x, keep_prob):\n",
    "    mu = 0\n",
    "    sigma = 0.1\n",
    "    conv1_W = tf.Variable(tf.truncated_normal(shape=(5,5,1,6), mean=mu, stddev=sigma))\n",
    "    conv1_b = tf.Variable(tf.zeros(6))\n",
    "    conv1 = tf.nn.conv2d(x, conv1_W, strides=[1,1,1,1], padding='VALID') + conv1_b\n",
    "    print(\"Shape after 1st convolutional layer: \", conv1.shape)\n",
    "    conv1 = tf.nn.relu(conv1)\n",
    "    conv1 = tf.nn.max_pool(conv1, ksize=[1,2,2,1], strides=[1,2,2,1], padding='VALID')\n",
    "    print(\"Shape after first pooling: \", conv1.shape)\n",
    "\n",
    "    conv2_W = tf.Variable(tf.truncated_normal(shape=(5,5,6,16), mean=mu, stddev=sigma))\n",
    "    conv2_b = tf.Variable(tf.zeros(16))\n",
    "    conv2 = tf.nn.conv2d(conv1, conv2_W, strides=[1,1,1,1], padding='VALID') + conv2_b\n",
    "    print(\"Shape after 1st convolutional layer: \", conv2.shape)\n",
    "    conv2 = tf.nn.relu(conv2)\n",
    "    conv2 = tf.nn.max_pool(conv2, ksize=[1,2,2,1], strides=[1,2,2,1], padding='VALID')\n",
    "    print(\"Shape after first pooling: \", conv2.shape)\n",
    "\n",
    "    fc0 = tf.keras.layers.Flatten(conv2)\n",
    "\n",
    "    fc1_W = tf.Variable(tf.truncated_normal(shape=(400,200), mean=mu, stddev=sigma))\n",
    "    fc1_b = tf.Variable(tf.zeros(120))\n",
    "    fc1 = tf.matmul(fc0, fc1_W) + fc1_b\n",
    "    print(\"Shape after first fully connected layer: \", fc1.shape)\n",
    "\n",
    "    fc1 = tf.nn.relu(fc1)\n",
    "\n",
    "    fc2_W = tf.Variable(tf.truncated_normal(shape=(120,84), mean=mu, stddev=sigma))\n",
    "    fc2_b = tf.Variable(tf.zeros(84))\n",
    "    fc2 = tf.matmul(fc1, fc2_W) + fc2_b\n",
    "    print(\"Shape after second fully connected layer: \", fc2.shape)\n",
    "\n",
    "    fc2 = tf.nn.relu(fc2)\n",
    "    fc2 = tf.nn.dropout(fc2, keep_prob)\n",
    "    print(\"Shape after dropout: \", fc2.shape)\n",
    "\n",
    "    fc3_W = tf.Variable(tf.truncated_normal(shape=(84,43), mean=mu, stddev=sigma))\n",
    "    fc3_b = tf.Variable(tf.zeros(43))\n",
    "    logits = tf.matmul(fc2, fc3_W) + fc3_b\n",
    "    print(\"Shape of Logits after third fully connected layer: \", logits.shape)\n",
    "\n",
    "    return logits"
   ],
   "metadata": {
    "collapsed": false
   }
  },
  {
   "cell_type": "code",
   "execution_count": null,
   "outputs": [
    {
     "name": "stdout",
     "output_type": "stream",
     "text": [
      "completed\n"
     ]
    }
   ],
   "source": [
    "print(\"completed\")"
   ],
   "metadata": {
    "collapsed": false
   }
  },
  {
   "cell_type": "code",
   "execution_count": null,
   "outputs": [
    {
     "name": "stdout",
     "output_type": "stream",
     "text": [
      "WARNING:tensorflow:From C:\\Users\\ghani\\PycharmProjects\\UdacityCar\\venv\\lib\\site-packages\\tensorflow\\python\\compat\\v2_compat.py:107: disable_resource_variables (from tensorflow.python.ops.variable_scope) is deprecated and will be removed in a future version.\n",
      "Instructions for updating:\n",
      "non-resource variables are not supported in the long term\n"
     ]
    }
   ],
   "source": [
    "# hyperparameters\n",
    "\n",
    "keep_prob = 1.0\n",
    "epochs = 50\n",
    "batch = 100\n",
    "rate = 0.001\n",
    "tf.disable_v2_behavior()\n",
    "x = tf.placeholder(tf.float32, (None, 32, 32, 1))\n",
    "y = tf.placeholder(tf.int32, (None))\n",
    "one_hot_y = tf.one_hot(y, 43)"
   ],
   "metadata": {
    "collapsed": false
   }
  },
  {
   "cell_type": "code",
   "execution_count": null,
   "outputs": [
    {
     "name": "stdout",
     "output_type": "stream",
     "text": [
      "Shape after 1st convolutional layer:  (?, 28, 28, 6)\n",
      "Shape after first pooling:  (?, 14, 14, 6)\n",
      "Shape after 1st convolutional layer:  (?, 10, 10, 16)\n",
      "Shape after first pooling:  (?, 5, 5, 16)\n"
     ]
    },
    {
     "ename": "AttributeError",
     "evalue": "'Tensor' object has no attribute 'lower'",
     "output_type": "error",
     "traceback": [
      "\u001B[1;31m---------------------------------------------------------------------------\u001B[0m",
      "\u001B[1;31mAttributeError\u001B[0m                            Traceback (most recent call last)",
      "Cell \u001B[1;32mIn[20], line 3\u001B[0m\n\u001B[0;32m      1\u001B[0m \u001B[38;5;66;03m# pipeline\u001B[39;00m\n\u001B[1;32m----> 3\u001B[0m logits \u001B[38;5;241m=\u001B[39m \u001B[43mLeNet\u001B[49m\u001B[43m(\u001B[49m\u001B[43mx\u001B[49m\u001B[43m,\u001B[49m\u001B[43m \u001B[49m\u001B[43mkeep_prob\u001B[49m\u001B[43m)\u001B[49m\n\u001B[0;32m      4\u001B[0m cross_entropy \u001B[38;5;241m=\u001B[39m tf\u001B[38;5;241m.\u001B[39mnn\u001B[38;5;241m.\u001B[39msoftmax_cross_entropy_with_logits(labels\u001B[38;5;241m=\u001B[39mone_hot_y, logits\u001B[38;5;241m=\u001B[39mlogits)\n\u001B[0;32m      5\u001B[0m loss_operation \u001B[38;5;241m=\u001B[39m tf\u001B[38;5;241m.\u001B[39mreduce_mean(cross_entropy)\n",
      "Cell \u001B[1;32mIn[17], line 20\u001B[0m, in \u001B[0;36mLeNet\u001B[1;34m(x, keep_prob)\u001B[0m\n\u001B[0;32m     17\u001B[0m conv2 \u001B[38;5;241m=\u001B[39m tf\u001B[38;5;241m.\u001B[39mnn\u001B[38;5;241m.\u001B[39mmax_pool(conv2, ksize\u001B[38;5;241m=\u001B[39m[\u001B[38;5;241m1\u001B[39m,\u001B[38;5;241m2\u001B[39m,\u001B[38;5;241m2\u001B[39m,\u001B[38;5;241m1\u001B[39m], strides\u001B[38;5;241m=\u001B[39m[\u001B[38;5;241m1\u001B[39m,\u001B[38;5;241m2\u001B[39m,\u001B[38;5;241m2\u001B[39m,\u001B[38;5;241m1\u001B[39m], padding\u001B[38;5;241m=\u001B[39m\u001B[38;5;124m'\u001B[39m\u001B[38;5;124mVALID\u001B[39m\u001B[38;5;124m'\u001B[39m)\n\u001B[0;32m     18\u001B[0m \u001B[38;5;28mprint\u001B[39m(\u001B[38;5;124m\"\u001B[39m\u001B[38;5;124mShape after first pooling: \u001B[39m\u001B[38;5;124m\"\u001B[39m, conv2\u001B[38;5;241m.\u001B[39mshape)\n\u001B[1;32m---> 20\u001B[0m fc0 \u001B[38;5;241m=\u001B[39m \u001B[43mtf\u001B[49m\u001B[38;5;241;43m.\u001B[39;49m\u001B[43mkeras\u001B[49m\u001B[38;5;241;43m.\u001B[39;49m\u001B[43mlayers\u001B[49m\u001B[38;5;241;43m.\u001B[39;49m\u001B[43mFlatten\u001B[49m\u001B[43m(\u001B[49m\u001B[43mconv2\u001B[49m\u001B[43m)\u001B[49m\n\u001B[0;32m     22\u001B[0m fc1_W \u001B[38;5;241m=\u001B[39m tf\u001B[38;5;241m.\u001B[39mVariable(tf\u001B[38;5;241m.\u001B[39mtruncated_normal(shape\u001B[38;5;241m=\u001B[39m(\u001B[38;5;241m400\u001B[39m,\u001B[38;5;241m200\u001B[39m), mean\u001B[38;5;241m=\u001B[39mmu, stddev\u001B[38;5;241m=\u001B[39msigma))\n\u001B[0;32m     23\u001B[0m fc1_b \u001B[38;5;241m=\u001B[39m tf\u001B[38;5;241m.\u001B[39mVariable(tf\u001B[38;5;241m.\u001B[39mzeros(\u001B[38;5;241m120\u001B[39m))\n",
      "File \u001B[1;32m~\\PycharmProjects\\UdacityCar\\venv\\lib\\site-packages\\keras\\layers\\reshaping\\flatten.py:65\u001B[0m, in \u001B[0;36mFlatten.__init__\u001B[1;34m(self, data_format, **kwargs)\u001B[0m\n\u001B[0;32m     63\u001B[0m \u001B[38;5;28;01mdef\u001B[39;00m \u001B[38;5;21m__init__\u001B[39m(\u001B[38;5;28mself\u001B[39m, data_format\u001B[38;5;241m=\u001B[39m\u001B[38;5;28;01mNone\u001B[39;00m, \u001B[38;5;241m*\u001B[39m\u001B[38;5;241m*\u001B[39mkwargs):\n\u001B[0;32m     64\u001B[0m     \u001B[38;5;28msuper\u001B[39m()\u001B[38;5;241m.\u001B[39m\u001B[38;5;21m__init__\u001B[39m(\u001B[38;5;241m*\u001B[39m\u001B[38;5;241m*\u001B[39mkwargs)\n\u001B[1;32m---> 65\u001B[0m     \u001B[38;5;28mself\u001B[39m\u001B[38;5;241m.\u001B[39mdata_format \u001B[38;5;241m=\u001B[39m \u001B[43mconv_utils\u001B[49m\u001B[38;5;241;43m.\u001B[39;49m\u001B[43mnormalize_data_format\u001B[49m\u001B[43m(\u001B[49m\u001B[43mdata_format\u001B[49m\u001B[43m)\u001B[49m\n\u001B[0;32m     66\u001B[0m     \u001B[38;5;28mself\u001B[39m\u001B[38;5;241m.\u001B[39minput_spec \u001B[38;5;241m=\u001B[39m InputSpec(min_ndim\u001B[38;5;241m=\u001B[39m\u001B[38;5;241m1\u001B[39m)\n\u001B[0;32m     67\u001B[0m     \u001B[38;5;28mself\u001B[39m\u001B[38;5;241m.\u001B[39m_channels_first \u001B[38;5;241m=\u001B[39m \u001B[38;5;28mself\u001B[39m\u001B[38;5;241m.\u001B[39mdata_format \u001B[38;5;241m==\u001B[39m \u001B[38;5;124m\"\u001B[39m\u001B[38;5;124mchannels_first\u001B[39m\u001B[38;5;124m\"\u001B[39m\n",
      "File \u001B[1;32m~\\PycharmProjects\\UdacityCar\\venv\\lib\\site-packages\\keras\\utils\\conv_utils.py:223\u001B[0m, in \u001B[0;36mnormalize_data_format\u001B[1;34m(value)\u001B[0m\n\u001B[0;32m    221\u001B[0m \u001B[38;5;28;01mif\u001B[39;00m value \u001B[38;5;129;01mis\u001B[39;00m \u001B[38;5;28;01mNone\u001B[39;00m:\n\u001B[0;32m    222\u001B[0m     value \u001B[38;5;241m=\u001B[39m backend\u001B[38;5;241m.\u001B[39mimage_data_format()\n\u001B[1;32m--> 223\u001B[0m data_format \u001B[38;5;241m=\u001B[39m \u001B[43mvalue\u001B[49m\u001B[38;5;241;43m.\u001B[39;49m\u001B[43mlower\u001B[49m()\n\u001B[0;32m    224\u001B[0m \u001B[38;5;28;01mif\u001B[39;00m data_format \u001B[38;5;129;01mnot\u001B[39;00m \u001B[38;5;129;01min\u001B[39;00m {\u001B[38;5;124m\"\u001B[39m\u001B[38;5;124mchannels_first\u001B[39m\u001B[38;5;124m\"\u001B[39m, \u001B[38;5;124m\"\u001B[39m\u001B[38;5;124mchannels_last\u001B[39m\u001B[38;5;124m\"\u001B[39m}:\n\u001B[0;32m    225\u001B[0m     \u001B[38;5;28;01mraise\u001B[39;00m \u001B[38;5;167;01mValueError\u001B[39;00m(\n\u001B[0;32m    226\u001B[0m         \u001B[38;5;124m\"\u001B[39m\u001B[38;5;124mThe `data_format` argument must be one of \u001B[39m\u001B[38;5;124m\"\u001B[39m\n\u001B[0;32m    227\u001B[0m         \u001B[38;5;124mf\u001B[39m\u001B[38;5;124m'\u001B[39m\u001B[38;5;124m\"\u001B[39m\u001B[38;5;124mchannels_first\u001B[39m\u001B[38;5;124m\"\u001B[39m\u001B[38;5;124m, \u001B[39m\u001B[38;5;124m\"\u001B[39m\u001B[38;5;124mchannels_last\u001B[39m\u001B[38;5;124m\"\u001B[39m\u001B[38;5;124m. Received: \u001B[39m\u001B[38;5;132;01m{\u001B[39;00mvalue\u001B[38;5;132;01m}\u001B[39;00m\u001B[38;5;124m'\u001B[39m\n\u001B[0;32m    228\u001B[0m     )\n",
      "File \u001B[1;32m~\\PycharmProjects\\UdacityCar\\venv\\lib\\site-packages\\tensorflow\\python\\framework\\ops.py:444\u001B[0m, in \u001B[0;36mTensor.__getattr__\u001B[1;34m(self, name)\u001B[0m\n\u001B[0;32m    435\u001B[0m \u001B[38;5;28;01mif\u001B[39;00m name \u001B[38;5;129;01min\u001B[39;00m {\u001B[38;5;124m\"\u001B[39m\u001B[38;5;124mT\u001B[39m\u001B[38;5;124m\"\u001B[39m, \u001B[38;5;124m\"\u001B[39m\u001B[38;5;124mastype\u001B[39m\u001B[38;5;124m\"\u001B[39m, \u001B[38;5;124m\"\u001B[39m\u001B[38;5;124mravel\u001B[39m\u001B[38;5;124m\"\u001B[39m, \u001B[38;5;124m\"\u001B[39m\u001B[38;5;124mtranspose\u001B[39m\u001B[38;5;124m\"\u001B[39m, \u001B[38;5;124m\"\u001B[39m\u001B[38;5;124mreshape\u001B[39m\u001B[38;5;124m\"\u001B[39m, \u001B[38;5;124m\"\u001B[39m\u001B[38;5;124mclip\u001B[39m\u001B[38;5;124m\"\u001B[39m, \u001B[38;5;124m\"\u001B[39m\u001B[38;5;124msize\u001B[39m\u001B[38;5;124m\"\u001B[39m,\n\u001B[0;32m    436\u001B[0m             \u001B[38;5;124m\"\u001B[39m\u001B[38;5;124mtolist\u001B[39m\u001B[38;5;124m\"\u001B[39m, \u001B[38;5;124m\"\u001B[39m\u001B[38;5;124mdata\u001B[39m\u001B[38;5;124m\"\u001B[39m}:\n\u001B[0;32m    437\u001B[0m   \u001B[38;5;66;03m# TODO(wangpeng): Export the enable_numpy_behavior knob\u001B[39;00m\n\u001B[0;32m    438\u001B[0m   \u001B[38;5;28;01mraise\u001B[39;00m \u001B[38;5;167;01mAttributeError\u001B[39;00m(\n\u001B[0;32m    439\u001B[0m       \u001B[38;5;124mf\u001B[39m\u001B[38;5;124m\"\u001B[39m\u001B[38;5;132;01m{\u001B[39;00m\u001B[38;5;28mtype\u001B[39m(\u001B[38;5;28mself\u001B[39m)\u001B[38;5;241m.\u001B[39m\u001B[38;5;18m__name__\u001B[39m\u001B[38;5;132;01m}\u001B[39;00m\u001B[38;5;124m object has no attribute \u001B[39m\u001B[38;5;124m'\u001B[39m\u001B[38;5;132;01m{\u001B[39;00mname\u001B[38;5;132;01m}\u001B[39;00m\u001B[38;5;124m'\u001B[39m\u001B[38;5;124m. \u001B[39m\u001B[38;5;124m\"\u001B[39m \u001B[38;5;241m+\u001B[39m \u001B[38;5;124m\"\"\"\u001B[39m\n\u001B[0;32m    440\u001B[0m \u001B[38;5;124m    If you are looking for numpy-related methods, please run the following:\u001B[39m\n\u001B[0;32m    441\u001B[0m \u001B[38;5;124m    from tensorflow.python.ops.numpy_ops import np_config\u001B[39m\n\u001B[0;32m    442\u001B[0m \u001B[38;5;124m    np_config.enable_numpy_behavior()\u001B[39m\n\u001B[0;32m    443\u001B[0m \u001B[38;5;124m  \u001B[39m\u001B[38;5;124m\"\"\"\u001B[39m)\n\u001B[1;32m--> 444\u001B[0m \u001B[38;5;28;43mself\u001B[39;49m\u001B[38;5;241;43m.\u001B[39;49m\u001B[38;5;21;43m__getattribute__\u001B[39;49m\u001B[43m(\u001B[49m\u001B[43mname\u001B[49m\u001B[43m)\u001B[49m\n",
      "\u001B[1;31mAttributeError\u001B[0m: 'Tensor' object has no attribute 'lower'"
     ]
    }
   ],
   "source": [
    "# pipeline\n",
    "\n",
    "logits = LeNet(x, keep_prob)\n",
    "cross_entropy = tf.nn.softmax_cross_entropy_with_logits(labels=one_hot_y, logits=logits)\n",
    "loss_operation = tf.reduce_mean(cross_entropy)\n",
    "optimizer = tf.train.AdamOptimizer(learning_rate=rate)\n",
    "training_operation = optimizer.minimize(loss_operation)"
   ],
   "metadata": {
    "collapsed": false
   }
  },
  {
   "cell_type": "code",
   "execution_count": null,
   "outputs": [],
   "source": [
    "# evaluation\n",
    "\n",
    "correct_prediction = tf.equal(tf.argmax(logits, 1), tf.argmax(one_hot_y, 1))\n",
    "accuracy_operation = tf.reduce_mean(tf.cast(correct_prediction, tf.float32))\n",
    "\n",
    "def evaluate(X_data, y_data):\n",
    "    num_examples = len(X_data)\n",
    "    total_accuracy = 0\n",
    "    sess = tf.get_default_session()\n",
    "    for offset in range(0, num_examples, batch):\n",
    "        batch_x, batch_y = X_data[offset:offset+batch], y_data[offset:offset+batch]\n",
    "        accuracy = sess.run(accuracy_operation, feed_dict={x: batch_x, y: batch_y})\n",
    "        total_accuracy += (accuracy * len(batch_x))\n",
    "    return total_accuracy / num_examples"
   ],
   "metadata": {
    "collapsed": false
   }
  },
  {
   "cell_type": "code",
   "execution_count": null,
   "outputs": [],
   "source": [
    "# training\n",
    "\n",
    "with tf.Session() as sess:\n",
    "    sess.run(tf.global_variables_initializer())\n",
    "    num_examples = len(X_train)\n",
    "    print(\"Training...\\n\")\n",
    "    for i in range(epochs):\n",
    "        X_train_normalized, y_train = shuffle()"
   ],
   "metadata": {
    "collapsed": false
   }
  },
  {
   "cell_type": "code",
   "execution_count": null,
   "outputs": [],
   "source": [],
   "metadata": {
    "collapsed": false
   }
  }
 ],
 "metadata": {
  "kernelspec": {
   "display_name": "Python 3",
   "language": "python",
   "name": "python3"
  },
  "language_info": {
   "codemirror_mode": {
    "name": "ipython",
    "version": 2
   },
   "file_extension": ".py",
   "mimetype": "text/x-python",
   "name": "python",
   "nbconvert_exporter": "python",
   "pygments_lexer": "ipython2",
   "version": "2.7.6"
  }
 },
 "nbformat": 4,
 "nbformat_minor": 0
}
